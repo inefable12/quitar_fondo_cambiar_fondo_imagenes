{
  "nbformat": 4,
  "nbformat_minor": 0,
  "metadata": {
    "colab": {
      "provenance": [],
      "authorship_tag": "ABX9TyNtS70mS0pthuJau0jcg9Vv",
      "include_colab_link": true
    },
    "kernelspec": {
      "name": "python3",
      "display_name": "Python 3"
    },
    "language_info": {
      "name": "python"
    }
  },
  "cells": [
    {
      "cell_type": "markdown",
      "metadata": {
        "id": "view-in-github",
        "colab_type": "text"
      },
      "source": [
        "<a href=\"https://colab.research.google.com/github/inefable12/quitar_fondo_cambiar_fondo_imagenes/blob/main/Quitar_fondo.ipynb\" target=\"_parent\"><img src=\"https://colab.research.google.com/assets/colab-badge.svg\" alt=\"Open In Colab\"/></a>"
      ]
    },
    {
      "cell_type": "markdown",
      "source": [
        "# Quitar y cambiar fondo con Python"
      ],
      "metadata": {
        "id": "QTXbCgBSZ0Lj"
      }
    },
    {
      "cell_type": "markdown",
      "source": [
        "*JAH*"
      ],
      "metadata": {
        "id": "Rofr_zt0gIwz"
      }
    },
    {
      "cell_type": "markdown",
      "source": [
        "## Librerías"
      ],
      "metadata": {
        "id": "zH8ZUW5TZ4on"
      }
    },
    {
      "cell_type": "code",
      "execution_count": null,
      "metadata": {
        "id": "FDE30IsVBx_i"
      },
      "outputs": [],
      "source": [
        "#Luego de ejecutar esta celda podemos obtener un error de depencias de pip\n",
        "#En #Entorno de ejecucion\" --> \"Reiniciar entorno de ejecución\" y ejecutamos\n",
        "#la siguiente celda, ya no esta\n",
        "!pip install rembg"
      ]
    },
    {
      "cell_type": "code",
      "source": [
        "# Importamos las librerías\n",
        "from rembg import remove\n",
        "from PIL import Image"
      ],
      "metadata": {
        "id": "3lA89UsuFE7z"
      },
      "execution_count": 1,
      "outputs": []
    },
    {
      "cell_type": "markdown",
      "source": [
        "## Quitar fondo"
      ],
      "metadata": {
        "id": "MIZSoS2-ZnTs"
      }
    },
    {
      "cell_type": "code",
      "source": [
        "#Escribe el nombre de tu archivo de entrada\n",
        "caminho_entrada = \"foto2.jpeg\"\n",
        "\n",
        "#Si deseas edita el nombre del archivo de salida\n",
        "caminho_saida = \"foto2_sinfondo.png\"\n",
        "\n",
        "#Quitamos el fondo\n",
        "entrada = Image.open(caminho_entrada)\n",
        "\n",
        "#Eliminamos el fondo\n",
        "saida = remove(entrada)\n",
        "\n",
        "#Guardamos el resultado*\n",
        "saida.save(caminho_saida)"
      ],
      "metadata": {
        "id": "U16sBUu5Grhr"
      },
      "execution_count": 10,
      "outputs": []
    },
    {
      "cell_type": "markdown",
      "source": [
        "## Cambiar fondo"
      ],
      "metadata": {
        "id": "ZIDqAOmGZsHi"
      }
    },
    {
      "cell_type": "code",
      "source": [
        "#Escribe el nombre de tu archivo de entrada\n",
        "camino_entrada = \"000_gaely.png\"\n",
        "\n",
        "#Si deseas edita el nombre del archivo de salida\n",
        "camino_salida = \"foto1_fondocambiado.png\"\n",
        "\n",
        "#Ingresamos el nuevo fondo\n",
        "camino_fondo = \"000_gaely_bg.png\"\n",
        "\n",
        "#################################################\n",
        "\n",
        "#Quitamos el fondo\n",
        "foreground = Image.open(camino_entrada)\n",
        "\n",
        "#Eliminamos el fondo\n",
        "mask = remove(foreground)\n",
        "\n",
        "background = Image.open(camino_fondo)\n",
        "\n",
        "#Hacemos la superposición\n",
        "output = Image.composite(foreground, background, mask)\n",
        "\n",
        "#Guardamos\n",
        "output.save(camino_salida)"
      ],
      "metadata": {
        "id": "W-zLe6r4ZrnA"
      },
      "execution_count": 13,
      "outputs": []
    }
  ]
}